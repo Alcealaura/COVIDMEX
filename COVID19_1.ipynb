{
 "cells": [
  {
   "cell_type": "markdown",
   "metadata": {},
   "source": [
    "# Estudio sobre la COVID-19 en México"
   ]
  },
  {
   "cell_type": "markdown",
   "metadata": {},
   "source": [
    "## Parte 1 del proyecto "
   ]
  },
  {
   "cell_type": "code",
   "execution_count": 1,
   "metadata": {},
   "outputs": [],
   "source": [
    "import pandas as pd\n",
    "import numpy as np\n",
    "import seaborn as sns\n",
    "import matplotlib.pyplot as plt"
   ]
  },
  {
   "cell_type": "code",
   "execution_count": 2,
   "metadata": {},
   "outputs": [],
   "source": [
    "pd.options.display.max_columns = 100"
   ]
  },
  {
   "cell_type": "markdown",
   "metadata": {},
   "source": [
    "Descarga de los datos para su evaluación."
   ]
  },
  {
   "cell_type": "code",
   "execution_count": 3,
   "metadata": {},
   "outputs": [
    {
     "data": {
      "text/html": [
       "<div>\n",
       "<style scoped>\n",
       "    .dataframe tbody tr th:only-of-type {\n",
       "        vertical-align: middle;\n",
       "    }\n",
       "\n",
       "    .dataframe tbody tr th {\n",
       "        vertical-align: top;\n",
       "    }\n",
       "\n",
       "    .dataframe thead th {\n",
       "        text-align: right;\n",
       "    }\n",
       "</style>\n",
       "<table border=\"1\" class=\"dataframe\">\n",
       "  <thead>\n",
       "    <tr style=\"text-align: right;\">\n",
       "      <th></th>\n",
       "      <th>FECHA_ACTUALIZACION</th>\n",
       "      <th>ID_REGISTRO</th>\n",
       "      <th>ORIGEN</th>\n",
       "      <th>SECTOR</th>\n",
       "      <th>ENTIDAD_UM</th>\n",
       "      <th>SEXO</th>\n",
       "      <th>ENTIDAD_NAC</th>\n",
       "      <th>ENTIDAD_RES</th>\n",
       "      <th>MUNICIPIO_RES</th>\n",
       "      <th>TIPO_PACIENTE</th>\n",
       "      <th>FECHA_INGRESO</th>\n",
       "      <th>FECHA_SINTOMAS</th>\n",
       "      <th>FECHA_DEF</th>\n",
       "      <th>INTUBADO</th>\n",
       "      <th>NEUMONIA</th>\n",
       "      <th>EDAD</th>\n",
       "      <th>NACIONALIDAD</th>\n",
       "      <th>EMBARAZO</th>\n",
       "      <th>HABLA_LENGUA_INDIG</th>\n",
       "      <th>DIABETES</th>\n",
       "      <th>EPOC</th>\n",
       "      <th>ASMA</th>\n",
       "      <th>INMUSUPR</th>\n",
       "      <th>HIPERTENSION</th>\n",
       "      <th>OTRA_COM</th>\n",
       "      <th>CARDIOVASCULAR</th>\n",
       "      <th>OBESIDAD</th>\n",
       "      <th>RENAL_CRONICA</th>\n",
       "      <th>TABAQUISMO</th>\n",
       "      <th>OTRO_CASO</th>\n",
       "      <th>RESULTADO</th>\n",
       "      <th>MIGRANTE</th>\n",
       "      <th>PAIS_NACIONALIDAD</th>\n",
       "      <th>PAIS_ORIGEN</th>\n",
       "      <th>UCI</th>\n",
       "    </tr>\n",
       "  </thead>\n",
       "  <tbody>\n",
       "    <tr>\n",
       "      <th>0</th>\n",
       "      <td>04/05/2020</td>\n",
       "      <td>1ab4e5</td>\n",
       "      <td>2</td>\n",
       "      <td>3</td>\n",
       "      <td>25</td>\n",
       "      <td>2</td>\n",
       "      <td>25</td>\n",
       "      <td>25</td>\n",
       "      <td>6</td>\n",
       "      <td>2</td>\n",
       "      <td>06/04/2020</td>\n",
       "      <td>31/03/2020</td>\n",
       "      <td>10/04/2020</td>\n",
       "      <td>1</td>\n",
       "      <td>1</td>\n",
       "      <td>42</td>\n",
       "      <td>1</td>\n",
       "      <td>97</td>\n",
       "      <td>2</td>\n",
       "      <td>1</td>\n",
       "      <td>2</td>\n",
       "      <td>2</td>\n",
       "      <td>2</td>\n",
       "      <td>1</td>\n",
       "      <td>2</td>\n",
       "      <td>2</td>\n",
       "      <td>1</td>\n",
       "      <td>2</td>\n",
       "      <td>2</td>\n",
       "      <td>2</td>\n",
       "      <td>1</td>\n",
       "      <td>99</td>\n",
       "      <td>MÃ©xico</td>\n",
       "      <td>99</td>\n",
       "      <td>2</td>\n",
       "    </tr>\n",
       "    <tr>\n",
       "      <th>1</th>\n",
       "      <td>04/05/2020</td>\n",
       "      <td>0cc140</td>\n",
       "      <td>2</td>\n",
       "      <td>3</td>\n",
       "      <td>15</td>\n",
       "      <td>1</td>\n",
       "      <td>28</td>\n",
       "      <td>15</td>\n",
       "      <td>20</td>\n",
       "      <td>1</td>\n",
       "      <td>10/04/2020</td>\n",
       "      <td>05/04/2020</td>\n",
       "      <td>9999-99-99</td>\n",
       "      <td>97</td>\n",
       "      <td>2</td>\n",
       "      <td>61</td>\n",
       "      <td>1</td>\n",
       "      <td>2</td>\n",
       "      <td>2</td>\n",
       "      <td>2</td>\n",
       "      <td>2</td>\n",
       "      <td>2</td>\n",
       "      <td>2</td>\n",
       "      <td>1</td>\n",
       "      <td>2</td>\n",
       "      <td>2</td>\n",
       "      <td>2</td>\n",
       "      <td>2</td>\n",
       "      <td>2</td>\n",
       "      <td>1</td>\n",
       "      <td>1</td>\n",
       "      <td>99</td>\n",
       "      <td>MÃ©xico</td>\n",
       "      <td>99</td>\n",
       "      <td>97</td>\n",
       "    </tr>\n",
       "    <tr>\n",
       "      <th>2</th>\n",
       "      <td>04/05/2020</td>\n",
       "      <td>0e0689</td>\n",
       "      <td>2</td>\n",
       "      <td>3</td>\n",
       "      <td>27</td>\n",
       "      <td>1</td>\n",
       "      <td>27</td>\n",
       "      <td>27</td>\n",
       "      <td>4</td>\n",
       "      <td>1</td>\n",
       "      <td>13/04/2020</td>\n",
       "      <td>11/04/2020</td>\n",
       "      <td>9999-99-99</td>\n",
       "      <td>97</td>\n",
       "      <td>2</td>\n",
       "      <td>32</td>\n",
       "      <td>1</td>\n",
       "      <td>2</td>\n",
       "      <td>2</td>\n",
       "      <td>2</td>\n",
       "      <td>2</td>\n",
       "      <td>2</td>\n",
       "      <td>2</td>\n",
       "      <td>2</td>\n",
       "      <td>2</td>\n",
       "      <td>2</td>\n",
       "      <td>2</td>\n",
       "      <td>2</td>\n",
       "      <td>2</td>\n",
       "      <td>2</td>\n",
       "      <td>1</td>\n",
       "      <td>99</td>\n",
       "      <td>MÃ©xico</td>\n",
       "      <td>99</td>\n",
       "      <td>97</td>\n",
       "    </tr>\n",
       "    <tr>\n",
       "      <th>3</th>\n",
       "      <td>04/05/2020</td>\n",
       "      <td>1b81dc</td>\n",
       "      <td>2</td>\n",
       "      <td>3</td>\n",
       "      <td>2</td>\n",
       "      <td>1</td>\n",
       "      <td>8</td>\n",
       "      <td>2</td>\n",
       "      <td>4</td>\n",
       "      <td>1</td>\n",
       "      <td>13/04/2020</td>\n",
       "      <td>09/04/2020</td>\n",
       "      <td>9999-99-99</td>\n",
       "      <td>97</td>\n",
       "      <td>2</td>\n",
       "      <td>33</td>\n",
       "      <td>1</td>\n",
       "      <td>2</td>\n",
       "      <td>2</td>\n",
       "      <td>2</td>\n",
       "      <td>2</td>\n",
       "      <td>2</td>\n",
       "      <td>2</td>\n",
       "      <td>2</td>\n",
       "      <td>2</td>\n",
       "      <td>2</td>\n",
       "      <td>2</td>\n",
       "      <td>2</td>\n",
       "      <td>2</td>\n",
       "      <td>1</td>\n",
       "      <td>1</td>\n",
       "      <td>99</td>\n",
       "      <td>MÃ©xico</td>\n",
       "      <td>99</td>\n",
       "      <td>97</td>\n",
       "    </tr>\n",
       "    <tr>\n",
       "      <th>4</th>\n",
       "      <td>04/05/2020</td>\n",
       "      <td>0b7b4d</td>\n",
       "      <td>2</td>\n",
       "      <td>3</td>\n",
       "      <td>27</td>\n",
       "      <td>2</td>\n",
       "      <td>27</td>\n",
       "      <td>27</td>\n",
       "      <td>3</td>\n",
       "      <td>2</td>\n",
       "      <td>13/04/2020</td>\n",
       "      <td>05/04/2020</td>\n",
       "      <td>14/04/2020</td>\n",
       "      <td>2</td>\n",
       "      <td>1</td>\n",
       "      <td>63</td>\n",
       "      <td>1</td>\n",
       "      <td>97</td>\n",
       "      <td>2</td>\n",
       "      <td>2</td>\n",
       "      <td>2</td>\n",
       "      <td>2</td>\n",
       "      <td>2</td>\n",
       "      <td>1</td>\n",
       "      <td>2</td>\n",
       "      <td>2</td>\n",
       "      <td>1</td>\n",
       "      <td>1</td>\n",
       "      <td>2</td>\n",
       "      <td>2</td>\n",
       "      <td>1</td>\n",
       "      <td>99</td>\n",
       "      <td>MÃ©xico</td>\n",
       "      <td>99</td>\n",
       "      <td>2</td>\n",
       "    </tr>\n",
       "  </tbody>\n",
       "</table>\n",
       "</div>"
      ],
      "text/plain": [
       "  FECHA_ACTUALIZACION ID_REGISTRO  ORIGEN  SECTOR  ENTIDAD_UM  SEXO  \\\n",
       "0          04/05/2020      1ab4e5       2       3          25     2   \n",
       "1          04/05/2020      0cc140       2       3          15     1   \n",
       "2          04/05/2020      0e0689       2       3          27     1   \n",
       "3          04/05/2020      1b81dc       2       3           2     1   \n",
       "4          04/05/2020      0b7b4d       2       3          27     2   \n",
       "\n",
       "   ENTIDAD_NAC  ENTIDAD_RES  MUNICIPIO_RES  TIPO_PACIENTE FECHA_INGRESO  \\\n",
       "0           25           25              6              2    06/04/2020   \n",
       "1           28           15             20              1    10/04/2020   \n",
       "2           27           27              4              1    13/04/2020   \n",
       "3            8            2              4              1    13/04/2020   \n",
       "4           27           27              3              2    13/04/2020   \n",
       "\n",
       "  FECHA_SINTOMAS   FECHA_DEF  INTUBADO  NEUMONIA  EDAD  NACIONALIDAD  \\\n",
       "0     31/03/2020  10/04/2020         1         1    42             1   \n",
       "1     05/04/2020  9999-99-99        97         2    61             1   \n",
       "2     11/04/2020  9999-99-99        97         2    32             1   \n",
       "3     09/04/2020  9999-99-99        97         2    33             1   \n",
       "4     05/04/2020  14/04/2020         2         1    63             1   \n",
       "\n",
       "   EMBARAZO  HABLA_LENGUA_INDIG  DIABETES  EPOC  ASMA  INMUSUPR  HIPERTENSION  \\\n",
       "0        97                   2         1     2     2         2             1   \n",
       "1         2                   2         2     2     2         2             1   \n",
       "2         2                   2         2     2     2         2             2   \n",
       "3         2                   2         2     2     2         2             2   \n",
       "4        97                   2         2     2     2         2             1   \n",
       "\n",
       "   OTRA_COM  CARDIOVASCULAR  OBESIDAD  RENAL_CRONICA  TABAQUISMO  OTRO_CASO  \\\n",
       "0         2               2         1              2           2          2   \n",
       "1         2               2         2              2           2          1   \n",
       "2         2               2         2              2           2          2   \n",
       "3         2               2         2              2           2          1   \n",
       "4         2               2         1              1           2          2   \n",
       "\n",
       "   RESULTADO  MIGRANTE PAIS_NACIONALIDAD PAIS_ORIGEN  UCI  \n",
       "0          1        99           MÃ©xico          99    2  \n",
       "1          1        99           MÃ©xico          99   97  \n",
       "2          1        99           MÃ©xico          99   97  \n",
       "3          1        99           MÃ©xico          99   97  \n",
       "4          1        99           MÃ©xico          99    2  "
      ]
     },
     "execution_count": 3,
     "metadata": {},
     "output_type": "execute_result"
    }
   ],
   "source": [
    "dfm = pd.read_csv(\"CoordMunicipios.csv\", encoding = \"ISO-8859-1\")\n",
    "dfe = pd.read_csv(\"CoordEstados.csv\", encoding = \"ISO-8859-1\")\n",
    "\n",
    "archivo = \"200504COVID19MEXICO.csv\"\n",
    "df = pd.read_csv(archivo, encoding = \"ISO-8859-1\")\n",
    "df.head()"
   ]
  },
  {
   "cell_type": "code",
   "execution_count": 4,
   "metadata": {},
   "outputs": [
    {
     "name": "stdout",
     "output_type": "stream",
     "text": [
      "<class 'pandas.core.frame.DataFrame'>\n",
      "RangeIndex: 100041 entries, 0 to 100040\n",
      "Data columns (total 35 columns):\n",
      " #   Column               Non-Null Count   Dtype \n",
      "---  ------               --------------   ----- \n",
      " 0   FECHA_ACTUALIZACION  100041 non-null  object\n",
      " 1   ID_REGISTRO          100041 non-null  object\n",
      " 2   ORIGEN               100041 non-null  int64 \n",
      " 3   SECTOR               100041 non-null  int64 \n",
      " 4   ENTIDAD_UM           100041 non-null  int64 \n",
      " 5   SEXO                 100041 non-null  int64 \n",
      " 6   ENTIDAD_NAC          100041 non-null  int64 \n",
      " 7   ENTIDAD_RES          100041 non-null  int64 \n",
      " 8   MUNICIPIO_RES        100041 non-null  int64 \n",
      " 9   TIPO_PACIENTE        100041 non-null  int64 \n",
      " 10  FECHA_INGRESO        100041 non-null  object\n",
      " 11  FECHA_SINTOMAS       100041 non-null  object\n",
      " 12  FECHA_DEF            100041 non-null  object\n",
      " 13  INTUBADO             100041 non-null  int64 \n",
      " 14  NEUMONIA             100041 non-null  int64 \n",
      " 15  EDAD                 100041 non-null  int64 \n",
      " 16  NACIONALIDAD         100041 non-null  int64 \n",
      " 17  EMBARAZO             100041 non-null  int64 \n",
      " 18  HABLA_LENGUA_INDIG   100041 non-null  int64 \n",
      " 19  DIABETES             100041 non-null  int64 \n",
      " 20  EPOC                 100041 non-null  int64 \n",
      " 21  ASMA                 100041 non-null  int64 \n",
      " 22  INMUSUPR             100041 non-null  int64 \n",
      " 23  HIPERTENSION         100041 non-null  int64 \n",
      " 24  OTRA_COM             100041 non-null  int64 \n",
      " 25  CARDIOVASCULAR       100041 non-null  int64 \n",
      " 26  OBESIDAD             100041 non-null  int64 \n",
      " 27  RENAL_CRONICA        100041 non-null  int64 \n",
      " 28  TABAQUISMO           100041 non-null  int64 \n",
      " 29  OTRO_CASO            100041 non-null  int64 \n",
      " 30  RESULTADO            100041 non-null  int64 \n",
      " 31  MIGRANTE             100041 non-null  int64 \n",
      " 32  PAIS_NACIONALIDAD    100041 non-null  object\n",
      " 33  PAIS_ORIGEN          100041 non-null  object\n",
      " 34  UCI                  100041 non-null  int64 \n",
      "dtypes: int64(28), object(7)\n",
      "memory usage: 26.7+ MB\n"
     ]
    }
   ],
   "source": [
    "df.info()"
   ]
  },
  {
   "cell_type": "code",
   "execution_count": 5,
   "metadata": {},
   "outputs": [
    {
     "name": "stdout",
     "output_type": "stream",
     "text": [
      "<class 'pandas.core.frame.DataFrame'>\n",
      "RangeIndex: 36 entries, 0 to 35\n",
      "Data columns (total 5 columns):\n",
      " #   Column        Non-Null Count  Dtype \n",
      "---  ------        --------------  ----- \n",
      " 0   Clave Estado  36 non-null     int64 \n",
      " 1   Estado        36 non-null     object\n",
      " 2   Latitud       36 non-null     object\n",
      " 3   Longitud      36 non-null     object\n",
      " 4   Error         36 non-null     object\n",
      "dtypes: int64(1), object(4)\n",
      "memory usage: 1.5+ KB\n"
     ]
    }
   ],
   "source": [
    "dfe.info()"
   ]
  },
  {
   "cell_type": "code",
   "execution_count": 6,
   "metadata": {},
   "outputs": [
    {
     "name": "stdout",
     "output_type": "stream",
     "text": [
      "<class 'pandas.core.frame.DataFrame'>\n",
      "RangeIndex: 2502 entries, 0 to 2501\n",
      "Data columns (total 7 columns):\n",
      " #   Column           Non-Null Count  Dtype  \n",
      "---  ------           --------------  -----  \n",
      " 0   Clave Estado     2501 non-null   float64\n",
      " 1   Estado           2501 non-null   object \n",
      " 2   Clave Municipio  2501 non-null   float64\n",
      " 3   Municipio        2501 non-null   object \n",
      " 4   Latitud          2502 non-null   float64\n",
      " 5   Longitud         2502 non-null   object \n",
      " 6   Error            0 non-null      float64\n",
      "dtypes: float64(4), object(3)\n",
      "memory usage: 137.0+ KB\n"
     ]
    }
   ],
   "source": [
    "dfm.info()"
   ]
  },
  {
   "cell_type": "markdown",
   "metadata": {},
   "source": [
    "### 1. Descripción de los tres dataframe empleados: "
   ]
  },
  {
   "cell_type": "markdown",
   "metadata": {},
   "source": [
    "El dataset inicial cuenta con un total de 100 041 registros, repartidos en 35 columnas:\n",
    "\n",
    "   - Datos personales de los pacientes: edad, sexo, lugar de residencia, origen, etc.\n",
    "\n",
    "   - Datos sobre su estado de salud: enfermedades asociadas de forma negativa a la COVID-19.\n",
    "\n",
    "   - Datos administrativos: unidad médica, localizaciones, etc.\n",
    "\n",
    "De esas 35 columnas:\n",
    "\n",
    "   - 4 contienen fechas: 3 de ellas son relevantes para estudiar la evolución de la enfermedad en el individuo y la cuarta permite seguir la evolución general de la pandemia en el país.\n",
    "\n",
    "   - 12 hacen referencia al estado de salud previo del paciente: cada una representa básicamente una variable \"dummy\" con respuesta \"sí\" o \"no\", aunque en ocasiones cuentan con alguna opción más.\n",
    "\n",
    "   - 8 contienen datos personales: este subgrupo es el más heterogéneo. Incluye datos de suma relevancia para nuestro análisis (como la edad y el sexo) y otros que parecen irrelevantes para los fines que perseguimos, como el hecho de que el paciente sea hablante de la lengua indígena o su calidad de migrante (no obstante, se entiende su utilización fuera del ámbito concreto de este proyecto).\n",
    "\n",
    "El resto de la información corresponde a registros administrativos, incluidos la unidad médica y su sector, datos geográficos, el registro, etc.\n",
    "\n",
    "El dataset de los estados incluye los datos geográficos de los mismos, repartidos en 36 registros y 5 columnas.\n",
    "\n",
    "El dataset de municipios cuenta con 2502 registros repartidos en 7 columnas y, al igual que el de estados, solamente nos ofrece información geográfica, aunque con mayor detalle que el anterior.\n",
    "\n",
    "Tras una primera evaluación, observamos la presencia de edades muy elevadas en el dataset y nos preocupa la posibilidad de que los datos estén sesgados. Por ello, procedemos a analizar la distribución de los registros en las edades por encima de los 75 años.  "
   ]
  },
  {
   "cell_type": "code",
   "execution_count": 7,
   "metadata": {},
   "outputs": [
    {
     "data": {
      "text/plain": [
       "76     111\n",
       "77     117\n",
       "78     109\n",
       "79     100\n",
       "80      79\n",
       "81      58\n",
       "82      67\n",
       "83      52\n",
       "84      71\n",
       "85      33\n",
       "86      30\n",
       "87      39\n",
       "88      24\n",
       "89      21\n",
       "90      19\n",
       "91      13\n",
       "92       8\n",
       "93       6\n",
       "94       4\n",
       "95       6\n",
       "96       2\n",
       "97       5\n",
       "98       1\n",
       "99       2\n",
       "100      3\n",
       "101      1\n",
       "102      1\n",
       "113      1\n",
       "Name: EDAD, dtype: int64"
      ]
     },
     "execution_count": 7,
     "metadata": {},
     "output_type": "execute_result"
    }
   ],
   "source": [
    "covid_in = df[df['RESULTADO']==1]\n",
    "covid_in.loc[covid_in['EDAD']>75,'EDAD'].value_counts().sort_index()"
   ]
  },
  {
   "cell_type": "markdown",
   "metadata": {},
   "source": [
    "Finalmente observamos que las edades más elevadas no se presentan con mucha frecuencia y se encuentran dentro de valores lógicos."
   ]
  },
  {
   "cell_type": "markdown",
   "metadata": {},
   "source": [
    "### 2. Selección de columnas pertinentes para el proyecto: "
   ]
  },
  {
   "cell_type": "markdown",
   "metadata": {},
   "source": [
    "Las variables que no vamos a tener en cuenta en este proyecto son las siguientes:\n",
    "\n",
    "   - Lengua indígena\n",
    "   - Entidad de nacionalidad\n",
    "   - Migrante\n",
    "   - País de nacionalidad\n",
    "\n",
    "Esto se debe a que consideramos que, en principio, no tienen un papel relevante en la explicación del desarrollo de la enfermedad en México.\n",
    "\n",
    "Procedemos a eliminarlas del dataset.\n"
   ]
  },
  {
   "cell_type": "code",
   "execution_count": 8,
   "metadata": {},
   "outputs": [
    {
     "data": {
      "text/plain": [
       "(24905, 31)"
      ]
     },
     "execution_count": 8,
     "metadata": {},
     "output_type": "execute_result"
    }
   ],
   "source": [
    "covid19 = covid_in.drop(['ENTIDAD_NAC', 'HABLA_LENGUA_INDIG', 'MIGRANTE', 'PAIS_NACIONALIDAD'], axis='columns')\n",
    "covid19.shape"
   ]
  },
  {
   "cell_type": "markdown",
   "metadata": {},
   "source": [
    "### 3. Cuatro informaciones importantes que podríamos obtener a través del análisis de los datos: "
   ]
  },
  {
   "cell_type": "markdown",
   "metadata": {},
   "source": [
    "1) Número de casos que han requerido ingreso en la UCI con respecto al total de los positivos.\n",
    "\n",
    "2) Número de casos que han requerido ingreso en la UCI con patologías/condiciones previas.\n",
    "\n",
    "3) Porcentaje de positivos fallecidos por edad; porcentaje de fallecidos por encima y por debajo de la mediana de la edad.\n",
    "\n",
    "4) Porcentaje de fumadores entre los fallecidos por encima y por debajo de la mediana de la edad."
   ]
  },
  {
   "cell_type": "markdown",
   "metadata": {},
   "source": [
    "### 4. Cuatro gráficos que podríamos crear con la información antes señalada: "
   ]
  },
  {
   "cell_type": "markdown",
   "metadata": {},
   "source": [
    "1) Número de casos que han requerido ingreso en la UCI con respecto al total de los positivos."
   ]
  },
  {
   "cell_type": "code",
   "execution_count": 9,
   "metadata": {},
   "outputs": [
    {
     "data": {
      "text/html": [
       "<div>\n",
       "<style scoped>\n",
       "    .dataframe tbody tr th:only-of-type {\n",
       "        vertical-align: middle;\n",
       "    }\n",
       "\n",
       "    .dataframe tbody tr th {\n",
       "        vertical-align: top;\n",
       "    }\n",
       "\n",
       "    .dataframe thead th {\n",
       "        text-align: right;\n",
       "    }\n",
       "</style>\n",
       "<table border=\"1\" class=\"dataframe\">\n",
       "  <thead>\n",
       "    <tr style=\"text-align: right;\">\n",
       "      <th></th>\n",
       "      <th>Positivos ingresados en la UCI</th>\n",
       "    </tr>\n",
       "  </thead>\n",
       "  <tbody>\n",
       "    <tr>\n",
       "      <th>No</th>\n",
       "      <td>8977</td>\n",
       "    </tr>\n",
       "    <tr>\n",
       "      <th>Sí</th>\n",
       "      <td>1015</td>\n",
       "    </tr>\n",
       "  </tbody>\n",
       "</table>\n",
       "</div>"
      ],
      "text/plain": [
       "    Positivos ingresados en la UCI\n",
       "No                            8977\n",
       "Sí                            1015"
      ]
     },
     "execution_count": 9,
     "metadata": {},
     "output_type": "execute_result"
    }
   ],
   "source": [
    "positivos_uci=pd.DataFrame(df[(df[\"RESULTADO\"]==1)&(df[\"UCI\"].isin([1,2]))][\"UCI\"].value_counts())\n",
    "positivos_uci.rename(columns={'UCI':'Positivos ingresados en la UCI'}, index={2:'No',1:'Sí'}, inplace=True)\n",
    "positivos_uci"
   ]
  },
  {
   "cell_type": "code",
   "execution_count": 10,
   "metadata": {},
   "outputs": [
    {
     "name": "stderr",
     "output_type": "stream",
     "text": [
      "C:\\Users\\ALCEA\\anaconda3\\lib\\site-packages\\ipykernel_launcher.py:6: MatplotlibDeprecationWarning: Non-1D inputs to pie() are currently squeeze()d, but this behavior is deprecated since 3.1 and will be removed in 3.3; pass a 1D array instead.\n",
      "  \n"
     ]
    },
    {
     "data": {
      "image/png": "[encoded data removed]",
      "text/plain": [
       "<Figure size 720x432 with 1 Axes>"
      ]
     },
     "metadata": {},
     "output_type": "display_data"
    }
   ],
   "source": [
    "positivos_uci=pd.DataFrame(df[(df[\"RESULTADO\"]==1)&(df[\"UCI\"].isin([1,2]))][\"UCI\"].value_counts().values)\n",
    "plt.figure(figsize=(10,6))\n",
    "clases = 'No', 'Sí'\n",
    "colores = ['lightskyblue','azure']\n",
    "plt.title(\"Positivos que han requerido ingreso en la UCI\")\n",
    "plt.pie(positivos_uci, labels = clases, colors=colores ,shadow = True, explode = (0.0, 0.0), autopct = '%1.2f%%')\n",
    "plt.show()"
   ]
  },
  {
   "cell_type": "markdown",
   "metadata": {},
   "source": [
    "2) Número de casos que han requerido ingreso en la UCI con patologías/condiciones previas."
   ]
  },
  {
   "cell_type": "code",
   "execution_count": 11,
   "metadata": {},
   "outputs": [
    {
     "data": {
      "text/html": [
       "<div>\n",
       "<style scoped>\n",
       "    .dataframe tbody tr th:only-of-type {\n",
       "        vertical-align: middle;\n",
       "    }\n",
       "\n",
       "    .dataframe tbody tr th {\n",
       "        vertical-align: top;\n",
       "    }\n",
       "\n",
       "    .dataframe thead th {\n",
       "        text-align: right;\n",
       "    }\n",
       "</style>\n",
       "<table border=\"1\" class=\"dataframe\">\n",
       "  <thead>\n",
       "    <tr style=\"text-align: right;\">\n",
       "      <th></th>\n",
       "      <th>EPOC</th>\n",
       "      <th>ASMA</th>\n",
       "      <th>DIABETES</th>\n",
       "      <th>HIPERTENSIÓN</th>\n",
       "      <th>OBESIDAD</th>\n",
       "      <th>TABAQUISMO</th>\n",
       "      <th>INMUNOSUPRESIÓN</th>\n",
       "      <th>CARDIOVASCULAR</th>\n",
       "      <th>RENAL CRÓNICA</th>\n",
       "      <th>OTRAS ENFERMEDADES</th>\n",
       "    </tr>\n",
       "  </thead>\n",
       "  <tbody>\n",
       "    <tr>\n",
       "      <th>No</th>\n",
       "      <td>947</td>\n",
       "      <td>964</td>\n",
       "      <td>662</td>\n",
       "      <td>638</td>\n",
       "      <td>697</td>\n",
       "      <td>906</td>\n",
       "      <td>973</td>\n",
       "      <td>948</td>\n",
       "      <td>958</td>\n",
       "      <td>947</td>\n",
       "    </tr>\n",
       "    <tr>\n",
       "      <th>Sí</th>\n",
       "      <td>50</td>\n",
       "      <td>31</td>\n",
       "      <td>339</td>\n",
       "      <td>364</td>\n",
       "      <td>306</td>\n",
       "      <td>92</td>\n",
       "      <td>25</td>\n",
       "      <td>51</td>\n",
       "      <td>40</td>\n",
       "      <td>51</td>\n",
       "    </tr>\n",
       "  </tbody>\n",
       "</table>\n",
       "</div>"
      ],
      "text/plain": [
       "    EPOC  ASMA  DIABETES  HIPERTENSIÓN  OBESIDAD  TABAQUISMO  INMUNOSUPRESIÓN  \\\n",
       "No   947   964       662           638       697         906              973   \n",
       "Sí    50    31       339           364       306          92               25   \n",
       "\n",
       "    CARDIOVASCULAR  RENAL CRÓNICA  OTRAS ENFERMEDADES  \n",
       "No             948            958                 947  \n",
       "Sí              51             40                  51  "
      ]
     },
     "execution_count": 11,
     "metadata": {},
     "output_type": "execute_result"
    }
   ],
   "source": [
    "positivos_enuci=pd.DataFrame(df[(df[\"RESULTADO\"]==1)&(df[\"UCI\"]==1)])\n",
    "epoc=pd.DataFrame(positivos_enuci[(positivos_enuci[\"EPOC\"].isin([1,2]))][\"EPOC\"].value_counts())\n",
    "asma=pd.DataFrame(positivos_enuci[(positivos_enuci[\"ASMA\"].isin([1,2]))][\"ASMA\"].value_counts())\n",
    "diabetes=pd.DataFrame(positivos_enuci[(positivos_enuci[\"DIABETES\"].isin([1,2]))][\"DIABETES\"].value_counts())\n",
    "hipertensión=pd.DataFrame(positivos_enuci[(positivos_enuci[\"HIPERTENSION\"].isin([1,2]))][\"HIPERTENSION\"].value_counts())\n",
    "obesidad=pd.DataFrame(positivos_enuci[(positivos_enuci[\"OBESIDAD\"].isin([1,2]))][\"OBESIDAD\"].value_counts())\n",
    "tabaquismo=pd.DataFrame(positivos_enuci[(positivos_enuci[\"TABAQUISMO\"].isin([1,2]))][\"TABAQUISMO\"].value_counts())\n",
    "inmunosupresores=pd.DataFrame(positivos_enuci[(positivos_enuci[\"INMUSUPR\"].isin([1,2]))][\"INMUSUPR\"].value_counts())\n",
    "cardiovascular=pd.DataFrame(positivos_enuci[(positivos_enuci[\"CARDIOVASCULAR\"].isin([1,2]))][\"CARDIOVASCULAR\"].value_counts())\n",
    "renal_crónica=pd.DataFrame(positivos_enuci[(positivos_enuci[\"RENAL_CRONICA\"].isin([1,2]))][\"RENAL_CRONICA\"].value_counts())\n",
    "otras_enf=pd.DataFrame(positivos_enuci[(positivos_enuci[\"OTRA_COM\"].isin([1,2]))][\"OTRA_COM\"].value_counts())\n",
    "dolencias_previas=pd.DataFrame(pd.concat([epoc,asma,diabetes,hipertensión,obesidad,tabaquismo,inmunosupresores,cardiovascular,renal_crónica,otras_enf], axis=1))\n",
    "dolencias_previas.rename(columns={'HIPERTENSION':'HIPERTENSIÓN','INMUSUPR':'INMUNOSUPRESIÓN','RENAL_CRONICA':'RENAL CRÓNICA','OTRA_COM':'OTRAS ENFERMEDADES'}, index={2:'No',1:'Sí'}, inplace=True)\n",
    "dolencias_previas"
   ]
  },
  {
   "cell_type": "code",
   "execution_count": 12,
   "metadata": {},
   "outputs": [],
   "source": [
    "epoc=positivos_enuci[(positivos_enuci[\"EPOC\"].isin([1,2]))][\"EPOC\"].value_counts().values\n",
    "asma=positivos_enuci[(positivos_enuci[\"ASMA\"].isin([1,2]))][\"ASMA\"].value_counts().values\n",
    "diabetes=positivos_enuci[(positivos_enuci[\"DIABETES\"].isin([1,2]))][\"DIABETES\"].value_counts().values\n",
    "hipertensión=positivos_enuci[(positivos_enuci[\"HIPERTENSION\"].isin([1,2]))][\"HIPERTENSION\"].value_counts().values\n",
    "obesidad=positivos_enuci[(positivos_enuci[\"OBESIDAD\"].isin([1,2]))][\"OBESIDAD\"].value_counts().values\n",
    "tabaquismo=positivos_enuci[(positivos_enuci[\"TABAQUISMO\"].isin([1,2]))][\"TABAQUISMO\"].value_counts().values\n",
    "inmunosupresores=positivos_enuci[(positivos_enuci[\"INMUSUPR\"].isin([1,2]))][\"INMUSUPR\"].value_counts().values\n",
    "cardiovascular=positivos_enuci[(positivos_enuci[\"CARDIOVASCULAR\"].isin([1,2]))][\"CARDIOVASCULAR\"].value_counts().values\n",
    "renal_crónica=positivos_enuci[(positivos_enuci[\"RENAL_CRONICA\"].isin([1,2]))][\"RENAL_CRONICA\"].value_counts().values\n",
    "otras_enf=positivos_enuci[(positivos_enuci[\"OTRA_COM\"].isin([1,2]))][\"OTRA_COM\"].value_counts().values"
   ]
  },
  {
   "cell_type": "code",
   "execution_count": 13,
   "metadata": {},
   "outputs": [
    {
     "data": {
      "image/png": "[encoded data removed]",
      "text/plain": [
       "<Figure size 720x720 with 10 Axes>"
      ]
     },
     "metadata": {},
     "output_type": "display_data"
    }
   ],
   "source": [
    "plt.figure(figsize=(10,10))\n",
    "clases = 'No', 'Sí'\n",
    "colores = ['lightskyblue','azure']\n",
    "plt.subplot(4,3,1)  \n",
    "plt.title(\"EPOC\")\n",
    "plt.pie(epoc, labels = clases, colors=colores ,shadow = True, explode = (0.0, 0.0), autopct = '%1.2f%%')\n",
    "plt.subplot(4,3,2)\n",
    "plt.title(\"Asma\")\n",
    "plt.pie(asma, labels = clases, colors=colores ,shadow = True, explode = (0.0, 0.0), autopct = '%1.2f%%')  \n",
    "plt.subplot(4,3,3)\n",
    "plt.title(\"Diabetes\")\n",
    "plt.pie(diabetes, labels = clases, colors=colores ,shadow = True, explode = (0.0, 0.0), autopct = '%1.2f%%')\n",
    "plt.subplot(4,3,4)\n",
    "plt.title(\"Hipertensión\")\n",
    "plt.pie(hipertensión, labels = clases, colors=colores ,shadow = True, explode = (0.0, 0.0), autopct = '%1.2f%%')\n",
    "plt.subplot(4,3,5)\n",
    "plt.title(\"Obesidad\")\n",
    "plt.pie(obesidad, labels = clases, colors=colores ,shadow = True, explode = (0.0, 0.0), autopct = '%1.2f%%')\n",
    "plt.subplot(4,3,6)\n",
    "plt.title(\"Tabaquismo\")\n",
    "plt.pie(tabaquismo, labels = clases, colors=colores ,shadow = True, explode = (0.0, 0.0), autopct = '%1.2f%%')\n",
    "plt.subplot(4,3,7)\n",
    "plt.title(\"Inmunosupresión\")\n",
    "plt.pie(inmunosupresores, labels = clases, colors=colores ,shadow = True, explode = (0.0, 0.0), autopct = '%1.2f%%')\n",
    "plt.subplot(4,3,8)\n",
    "plt.title(\"Enfermedad cardiovascular\")\n",
    "plt.pie(cardiovascular, labels = clases, colors=colores ,shadow = True, explode = (0.0, 0.0), autopct = '%1.2f%%')\n",
    "plt.subplot(4,3,9)\n",
    "plt.title(\"Enfermedad renal crónica\")\n",
    "plt.pie(renal_crónica, labels = clases, colors=colores ,shadow = True, explode = (0.0, 0.0), autopct = '%1.2f%%')\n",
    "plt.subplot(4,3,10)\n",
    "plt.title(\"Otras enfermedades\")\n",
    "plt.pie(otras_enf, labels = clases, colors=colores ,shadow = True, explode = (0.0, 0.0), autopct = '%1.2f%%')\n",
    "plt.show()"
   ]
  },
  {
   "cell_type": "markdown",
   "metadata": {},
   "source": [
    "3) Porcentaje de positivos fallecidos por edad; porcentaje de fallecidos por encima y por debajo de la mediana de la edad."
   ]
  },
  {
   "cell_type": "code",
   "execution_count": 14,
   "metadata": {},
   "outputs": [],
   "source": [
    "covid19['FECHA_DEF'].value_counts()\n",
    "fallecidos = covid19[covid19['FECHA_DEF']!='9999-99-99']\n",
    "vivos = covid19[covid19['FECHA_DEF']=='9999-99-99']"
   ]
  },
  {
   "cell_type": "code",
   "execution_count": 15,
   "metadata": {},
   "outputs": [
    {
     "data": {
      "text/html": [
       "<div>\n",
       "<style scoped>\n",
       "    .dataframe tbody tr th:only-of-type {\n",
       "        vertical-align: middle;\n",
       "    }\n",
       "\n",
       "    .dataframe tbody tr th {\n",
       "        vertical-align: top;\n",
       "    }\n",
       "\n",
       "    .dataframe thead th {\n",
       "        text-align: right;\n",
       "    }\n",
       "</style>\n",
       "<table border=\"1\" class=\"dataframe\">\n",
       "  <thead>\n",
       "    <tr style=\"text-align: right;\">\n",
       "      <th></th>\n",
       "      <th>FECHA_ACTUALIZACION</th>\n",
       "      <th>ID_REGISTRO</th>\n",
       "      <th>ORIGEN</th>\n",
       "      <th>SECTOR</th>\n",
       "      <th>ENTIDAD_UM</th>\n",
       "      <th>SEXO</th>\n",
       "      <th>ENTIDAD_RES</th>\n",
       "      <th>MUNICIPIO_RES</th>\n",
       "      <th>TIPO_PACIENTE</th>\n",
       "      <th>FECHA_INGRESO</th>\n",
       "      <th>FECHA_SINTOMAS</th>\n",
       "      <th>FECHA_DEF</th>\n",
       "      <th>INTUBADO</th>\n",
       "      <th>NEUMONIA</th>\n",
       "      <th>EDAD</th>\n",
       "      <th>NACIONALIDAD</th>\n",
       "      <th>EMBARAZO</th>\n",
       "      <th>DIABETES</th>\n",
       "      <th>EPOC</th>\n",
       "      <th>ASMA</th>\n",
       "      <th>INMUSUPR</th>\n",
       "      <th>HIPERTENSION</th>\n",
       "      <th>OTRA_COM</th>\n",
       "      <th>CARDIOVASCULAR</th>\n",
       "      <th>OBESIDAD</th>\n",
       "      <th>RENAL_CRONICA</th>\n",
       "      <th>TABAQUISMO</th>\n",
       "      <th>OTRO_CASO</th>\n",
       "      <th>RESULTADO</th>\n",
       "      <th>PAIS_ORIGEN</th>\n",
       "      <th>UCI</th>\n",
       "      <th>STATUS</th>\n",
       "    </tr>\n",
       "  </thead>\n",
       "  <tbody>\n",
       "    <tr>\n",
       "      <th>0</th>\n",
       "      <td>04/05/2020</td>\n",
       "      <td>1ab4e5</td>\n",
       "      <td>2</td>\n",
       "      <td>3</td>\n",
       "      <td>25</td>\n",
       "      <td>2</td>\n",
       "      <td>25</td>\n",
       "      <td>6</td>\n",
       "      <td>2</td>\n",
       "      <td>06/04/2020</td>\n",
       "      <td>31/03/2020</td>\n",
       "      <td>10/04/2020</td>\n",
       "      <td>1</td>\n",
       "      <td>1</td>\n",
       "      <td>42</td>\n",
       "      <td>1</td>\n",
       "      <td>97</td>\n",
       "      <td>1</td>\n",
       "      <td>2</td>\n",
       "      <td>2</td>\n",
       "      <td>2</td>\n",
       "      <td>1</td>\n",
       "      <td>2</td>\n",
       "      <td>2</td>\n",
       "      <td>1</td>\n",
       "      <td>2</td>\n",
       "      <td>2</td>\n",
       "      <td>2</td>\n",
       "      <td>1</td>\n",
       "      <td>99</td>\n",
       "      <td>2</td>\n",
       "      <td>0.0</td>\n",
       "    </tr>\n",
       "    <tr>\n",
       "      <th>1</th>\n",
       "      <td>04/05/2020</td>\n",
       "      <td>0cc140</td>\n",
       "      <td>2</td>\n",
       "      <td>3</td>\n",
       "      <td>15</td>\n",
       "      <td>1</td>\n",
       "      <td>15</td>\n",
       "      <td>20</td>\n",
       "      <td>1</td>\n",
       "      <td>10/04/2020</td>\n",
       "      <td>05/04/2020</td>\n",
       "      <td>9999-99-99</td>\n",
       "      <td>97</td>\n",
       "      <td>2</td>\n",
       "      <td>61</td>\n",
       "      <td>1</td>\n",
       "      <td>2</td>\n",
       "      <td>2</td>\n",
       "      <td>2</td>\n",
       "      <td>2</td>\n",
       "      <td>2</td>\n",
       "      <td>1</td>\n",
       "      <td>2</td>\n",
       "      <td>2</td>\n",
       "      <td>2</td>\n",
       "      <td>2</td>\n",
       "      <td>2</td>\n",
       "      <td>1</td>\n",
       "      <td>1</td>\n",
       "      <td>99</td>\n",
       "      <td>97</td>\n",
       "      <td>1.0</td>\n",
       "    </tr>\n",
       "    <tr>\n",
       "      <th>2</th>\n",
       "      <td>04/05/2020</td>\n",
       "      <td>0e0689</td>\n",
       "      <td>2</td>\n",
       "      <td>3</td>\n",
       "      <td>27</td>\n",
       "      <td>1</td>\n",
       "      <td>27</td>\n",
       "      <td>4</td>\n",
       "      <td>1</td>\n",
       "      <td>13/04/2020</td>\n",
       "      <td>11/04/2020</td>\n",
       "      <td>9999-99-99</td>\n",
       "      <td>97</td>\n",
       "      <td>2</td>\n",
       "      <td>32</td>\n",
       "      <td>1</td>\n",
       "      <td>2</td>\n",
       "      <td>2</td>\n",
       "      <td>2</td>\n",
       "      <td>2</td>\n",
       "      <td>2</td>\n",
       "      <td>2</td>\n",
       "      <td>2</td>\n",
       "      <td>2</td>\n",
       "      <td>2</td>\n",
       "      <td>2</td>\n",
       "      <td>2</td>\n",
       "      <td>2</td>\n",
       "      <td>1</td>\n",
       "      <td>99</td>\n",
       "      <td>97</td>\n",
       "      <td>1.0</td>\n",
       "    </tr>\n",
       "    <tr>\n",
       "      <th>3</th>\n",
       "      <td>04/05/2020</td>\n",
       "      <td>1b81dc</td>\n",
       "      <td>2</td>\n",
       "      <td>3</td>\n",
       "      <td>2</td>\n",
       "      <td>1</td>\n",
       "      <td>2</td>\n",
       "      <td>4</td>\n",
       "      <td>1</td>\n",
       "      <td>13/04/2020</td>\n",
       "      <td>09/04/2020</td>\n",
       "      <td>9999-99-99</td>\n",
       "      <td>97</td>\n",
       "      <td>2</td>\n",
       "      <td>33</td>\n",
       "      <td>1</td>\n",
       "      <td>2</td>\n",
       "      <td>2</td>\n",
       "      <td>2</td>\n",
       "      <td>2</td>\n",
       "      <td>2</td>\n",
       "      <td>2</td>\n",
       "      <td>2</td>\n",
       "      <td>2</td>\n",
       "      <td>2</td>\n",
       "      <td>2</td>\n",
       "      <td>2</td>\n",
       "      <td>1</td>\n",
       "      <td>1</td>\n",
       "      <td>99</td>\n",
       "      <td>97</td>\n",
       "      <td>1.0</td>\n",
       "    </tr>\n",
       "    <tr>\n",
       "      <th>4</th>\n",
       "      <td>04/05/2020</td>\n",
       "      <td>0b7b4d</td>\n",
       "      <td>2</td>\n",
       "      <td>3</td>\n",
       "      <td>27</td>\n",
       "      <td>2</td>\n",
       "      <td>27</td>\n",
       "      <td>3</td>\n",
       "      <td>2</td>\n",
       "      <td>13/04/2020</td>\n",
       "      <td>05/04/2020</td>\n",
       "      <td>14/04/2020</td>\n",
       "      <td>2</td>\n",
       "      <td>1</td>\n",
       "      <td>63</td>\n",
       "      <td>1</td>\n",
       "      <td>97</td>\n",
       "      <td>2</td>\n",
       "      <td>2</td>\n",
       "      <td>2</td>\n",
       "      <td>2</td>\n",
       "      <td>1</td>\n",
       "      <td>2</td>\n",
       "      <td>2</td>\n",
       "      <td>1</td>\n",
       "      <td>1</td>\n",
       "      <td>2</td>\n",
       "      <td>2</td>\n",
       "      <td>1</td>\n",
       "      <td>99</td>\n",
       "      <td>2</td>\n",
       "      <td>0.0</td>\n",
       "    </tr>\n",
       "  </tbody>\n",
       "</table>\n",
       "</div>"
      ],
      "text/plain": [
       "  FECHA_ACTUALIZACION ID_REGISTRO  ORIGEN  SECTOR  ENTIDAD_UM  SEXO  \\\n",
       "0          04/05/2020      1ab4e5       2       3          25     2   \n",
       "1          04/05/2020      0cc140       2       3          15     1   \n",
       "2          04/05/2020      0e0689       2       3          27     1   \n",
       "3          04/05/2020      1b81dc       2       3           2     1   \n",
       "4          04/05/2020      0b7b4d       2       3          27     2   \n",
       "\n",
       "   ENTIDAD_RES  MUNICIPIO_RES  TIPO_PACIENTE FECHA_INGRESO FECHA_SINTOMAS  \\\n",
       "0           25              6              2    06/04/2020     31/03/2020   \n",
       "1           15             20              1    10/04/2020     05/04/2020   \n",
       "2           27              4              1    13/04/2020     11/04/2020   \n",
       "3            2              4              1    13/04/2020     09/04/2020   \n",
       "4           27              3              2    13/04/2020     05/04/2020   \n",
       "\n",
       "    FECHA_DEF  INTUBADO  NEUMONIA  EDAD  NACIONALIDAD  EMBARAZO  DIABETES  \\\n",
       "0  10/04/2020         1         1    42             1        97         1   \n",
       "1  9999-99-99        97         2    61             1         2         2   \n",
       "2  9999-99-99        97         2    32             1         2         2   \n",
       "3  9999-99-99        97         2    33             1         2         2   \n",
       "4  14/04/2020         2         1    63             1        97         2   \n",
       "\n",
       "   EPOC  ASMA  INMUSUPR  HIPERTENSION  OTRA_COM  CARDIOVASCULAR  OBESIDAD  \\\n",
       "0     2     2         2             1         2               2         1   \n",
       "1     2     2         2             1         2               2         2   \n",
       "2     2     2         2             2         2               2         2   \n",
       "3     2     2         2             2         2               2         2   \n",
       "4     2     2         2             1         2               2         1   \n",
       "\n",
       "   RENAL_CRONICA  TABAQUISMO  OTRO_CASO  RESULTADO PAIS_ORIGEN  UCI  STATUS  \n",
       "0              2           2          2          1          99    2     0.0  \n",
       "1              2           2          1          1          99   97     1.0  \n",
       "2              2           2          2          1          99   97     1.0  \n",
       "3              2           2          1          1          99   97     1.0  \n",
       "4              1           2          2          1          99    2     0.0  "
      ]
     },
     "execution_count": 15,
     "metadata": {},
     "output_type": "execute_result"
    }
   ],
   "source": [
    "covid19.loc[covid19['FECHA_DEF']=='9999-99-99', 'STATUS'] = 1\n",
    "covid19.loc[covid19['FECHA_DEF']!='9999-99-99', 'STATUS'] = 0\n",
    "covid19.head()"
   ]
  },
  {
   "cell_type": "code",
   "execution_count": 16,
   "metadata": {},
   "outputs": [
    {
     "data": {
      "text/plain": [
       "1.0    22635\n",
       "0.0     2270\n",
       "Name: STATUS, dtype: int64"
      ]
     },
     "execution_count": 16,
     "metadata": {},
     "output_type": "execute_result"
    }
   ],
   "source": [
    "covid19['STATUS'].value_counts()"
   ]
  },
  {
   "cell_type": "code",
   "execution_count": 17,
   "metadata": {},
   "outputs": [
    {
     "data": {
      "text/plain": [
       "1.0    0.908854\n",
       "0.0    0.091146\n",
       "Name: STATUS, dtype: float64"
      ]
     },
     "execution_count": 17,
     "metadata": {},
     "output_type": "execute_result"
    }
   ],
   "source": [
    "covid19['STATUS'].value_counts(normalize=True)"
   ]
  },
  {
   "cell_type": "code",
   "execution_count": 18,
   "metadata": {},
   "outputs": [
    {
     "data": {
      "image/png": "[encoded data removed]",
      "text/plain": [
       "<Figure size 2160x1080 with 1 Axes>"
      ]
     },
     "metadata": {
      "needs_background": "light"
     },
     "output_type": "display_data"
    }
   ],
   "source": [
    "fig, ax = plt.subplots(figsize=(30,15))\n",
    "chart = sns.countplot(covid19['EDAD'], hue=covid19['STATUS'])\n",
    "chart.set_xticklabels(chart.get_xticklabels(), rotation=90)\n",
    "plt.show()"
   ]
  },
  {
   "cell_type": "code",
   "execution_count": 19,
   "metadata": {},
   "outputs": [
    {
     "data": {
      "text/plain": [
       "52.0"
      ]
     },
     "execution_count": 19,
     "metadata": {},
     "output_type": "execute_result"
    }
   ],
   "source": [
    "mdn= round(np.median(covid19['EDAD'].unique()))\n",
    "mdn"
   ]
  },
  {
   "cell_type": "code",
   "execution_count": 20,
   "metadata": {},
   "outputs": [],
   "source": [
    "covid_m = covid19[covid19['EDAD'] > mdn]\n",
    "covid_j = covid19[covid19['EDAD'] <= mdn]"
   ]
  },
  {
   "cell_type": "code",
   "execution_count": 21,
   "metadata": {},
   "outputs": [
    {
     "data": {
      "text/plain": [
       "[Text(0, 0, 'Fallecidos'), Text(0, 0, 'Vivos')]"
      ]
     },
     "execution_count": 21,
     "metadata": {},
     "output_type": "execute_result"
    },
    {
     "data": {
      "image/png": "[encoded data removed]",
      "text/plain": [
       "<Figure size 360x360 with 1 Axes>"
      ]
     },
     "metadata": {
      "needs_background": "light"
     },
     "output_type": "display_data"
    }
   ],
   "source": [
    "fig, ax = plt.subplots(figsize=(5,5))\n",
    "fx = sns.barplot(x= covid19['STATUS'], y=covid19['STATUS'] , estimator=lambda x: len(x) / len(covid19) * 100, palette='hls')\n",
    "fx.set(xlabel = 'Positivos en COVID-19' , ylabel='Porcentaje')\n",
    "fx.set_xticklabels(['Fallecidos', 'Vivos'])"
   ]
  },
  {
   "cell_type": "code",
   "execution_count": 22,
   "metadata": {},
   "outputs": [
    {
     "data": {
      "text/plain": [
       "[Text(0, 0, 'Fallecidos'), Text(0, 0, 'Vivos')]"
      ]
     },
     "execution_count": 22,
     "metadata": {},
     "output_type": "execute_result"
    },
    {
     "data": {
      "image/png": "[encoded data removed]",
      "text/plain": [
       "<Figure size 360x360 with 1 Axes>"
      ]
     },
     "metadata": {
      "needs_background": "light"
     },
     "output_type": "display_data"
    }
   ],
   "source": [
    "fig, ax = plt.subplots(figsize=(5,5))\n",
    "fx = sns.barplot(x= covid_m['STATUS'], y=covid_m['STATUS'] , estimator=lambda x: len(x) / len(covid_m) * 100, palette='hls')\n",
    "fx.set(xlabel = 'Positivos en COVID-19 (mayores de 52)' , ylabel='Porcentaje')\n",
    "fx.set_xticklabels(['Fallecidos', 'Vivos'])"
   ]
  },
  {
   "cell_type": "code",
   "execution_count": 23,
   "metadata": {},
   "outputs": [
    {
     "data": {
      "text/plain": [
       "[Text(0, 0, 'Fallecidos'), Text(0, 0, 'Vivos')]"
      ]
     },
     "execution_count": 23,
     "metadata": {},
     "output_type": "execute_result"
    },
    {
     "data": {
      "image/png": "[encoded data removed]",
      "text/plain": [
       "<Figure size 360x360 with 1 Axes>"
      ]
     },
     "metadata": {
      "needs_background": "light"
     },
     "output_type": "display_data"
    }
   ],
   "source": [
    "fig, ax = plt.subplots(figsize=(5,5))\n",
    "fx = sns.barplot(x= covid_j['STATUS'], y=covid_j['STATUS'] , estimator=lambda x: len(x) / len(covid_j) * 100, palette='hls')\n",
    "fx.set(xlabel = 'Positivos en COVID-19 (menores de 52)' , ylabel='Porcentaje')\n",
    "fx.set_xticklabels(['Fallecidos', 'Vivos'])"
   ]
  },
  {
   "cell_type": "code",
   "execution_count": 24,
   "metadata": {},
   "outputs": [
    {
     "data": {
      "image/png": "[encoded data removed]",
      "text/plain": [
       "<Figure size 864x432 with 1 Axes>"
      ]
     },
     "metadata": {},
     "output_type": "display_data"
    }
   ],
   "source": [
    "vivos=covid19[covid19['STATUS']==1].shape[0]\n",
    "muertos=covid19[covid19['STATUS']!=1].shape[0]\n",
    "pie_c =[vivos, muertos]\n",
    "labels =['Vivos', 'Fallecidos']\n",
    "\n",
    "fig, ax = plt.subplots(figsize=(12,6))\n",
    "plt.style.use('ggplot')\n",
    "plt.pie(pie_c, labels=labels,colors=['blue','red'], autopct='%1.3f%%')\n",
    "plt.title('Positivos en COVID-19')\n",
    "my_circle=plt.Circle( (0,0), 0.85, color='white')\n",
    "p=plt.gcf()\n",
    "p.gca().add_artist(my_circle)\n",
    "\n",
    "plt.show()"
   ]
  },
  {
   "cell_type": "code",
   "execution_count": 25,
   "metadata": {},
   "outputs": [
    {
     "data": {
      "image/png": "[encoded data removed]",
      "text/plain": [
       "<Figure size 864x432 with 1 Axes>"
      ]
     },
     "metadata": {},
     "output_type": "display_data"
    }
   ],
   "source": [
    "vivos=covid_m[covid_m['STATUS']==1].shape[0]\n",
    "muertos=covid_m[covid_m['STATUS']!=1].shape[0]\n",
    "pie_c =[vivos, muertos]\n",
    "labels =['Vivos', 'Fallecidos']\n",
    "\n",
    "fig, ax = plt.subplots(figsize=(12,6))\n",
    "plt.style.use('ggplot')\n",
    "plt.pie(pie_c, labels=labels,colors=['blue','red'], autopct='%1.3f%%')\n",
    "plt.title('Positivos en COVID-19 (mayores de 52 años)')\n",
    "my_circle=plt.Circle( (0,0), 0.85, color='white')\n",
    "p=plt.gcf()\n",
    "p.gca().add_artist(my_circle)\n",
    "\n",
    "plt.show()"
   ]
  },
  {
   "cell_type": "code",
   "execution_count": 26,
   "metadata": {},
   "outputs": [
    {
     "data": {
      "image/png": "[encoded data removed]",
      "text/plain": [
       "<Figure size 864x432 with 1 Axes>"
      ]
     },
     "metadata": {},
     "output_type": "display_data"
    }
   ],
   "source": [
    "vivos=covid_j[covid_j['STATUS']==1].shape[0]\n",
    "muertos=covid_j[covid_j['STATUS']!=1].shape[0]\n",
    "pie_c =[vivos, muertos]\n",
    "labels =['Vivos', 'Fallecidos']\n",
    "\n",
    "fig, ax = plt.subplots(figsize=(12,6))\n",
    "plt.style.use('ggplot')\n",
    "plt.pie(pie_c, labels=labels,colors=['blue','red'], autopct='%1.3f%%')\n",
    "plt.title('Positivos en COVID-19 (menores de 52 años)')\n",
    "my_circle=plt.Circle( (0,0), 0.85, color='white')\n",
    "p=plt.gcf()\n",
    "p.gca().add_artist(my_circle)\n",
    "\n",
    "plt.show()"
   ]
  },
  {
   "cell_type": "markdown",
   "metadata": {},
   "source": [
    "4) Porcentaje de fumadores entre los fallecidos por encima y por debajo de la mediana de la edad."
   ]
  },
  {
   "cell_type": "code",
   "execution_count": 27,
   "metadata": {},
   "outputs": [
    {
     "data": {
      "text/plain": [
       "Text(0.5, 1.0, 'Menores de 52')"
      ]
     },
     "execution_count": 27,
     "metadata": {},
     "output_type": "execute_result"
    },
    {
     "data": {
      "image/png": "[encoded data removed]",
      "text/plain": [
       "<Figure size 1080x432 with 2 Axes>"
      ]
     },
     "metadata": {},
     "output_type": "display_data"
    }
   ],
   "source": [
    "fig, ax = plt.subplots(1,2, figsize=(15,6), sharey=True)\n",
    "\n",
    "\n",
    "tab_m = covid_m[covid_m['TABAQUISMO'].isin([1,2])]\n",
    "\n",
    "sns.barplot(x=tab_m['TABAQUISMO'], y=tab_m['TABAQUISMO'],hue=tab_m['STATUS'], estimator=lambda x: len(x) / len(tab_m) * 100, palette='hls', ax=ax[0]).set_title('Mayores de 52')\n",
    "\n",
    "\n",
    "#####################################################################################################################################################\n",
    "\n",
    "tab_j = covid_j[covid_j['TABAQUISMO'].isin([1,2])]\n",
    "\n",
    "sns.barplot(x=tab_j['TABAQUISMO'], y=tab_j['TABAQUISMO'],hue=tab_j['STATUS'], estimator=lambda x: len(x) / len(tab_j) * 100, palette='hls', ax=ax[1]).set_title('Menores de 52')"
   ]
  },
  {
   "cell_type": "markdown",
   "metadata": {},
   "source": [
    "### 5. Objetivos que buscamos al determinar y representar gráficamente la información antes señalada: "
   ]
  },
  {
   "cell_type": "markdown",
   "metadata": {},
   "source": [
    "1) Número de casos que han requerido ingreso en la UCI con respecto al total de los positivos.\n",
    "\n",
    "Objetivo: calcular las probabilidades de que la enfermedad desemboque en una situación de gravedad. "
   ]
  },
  {
   "cell_type": "markdown",
   "metadata": {},
   "source": [
    "2) Número de casos que han requerido ingreso en la UCI con patologías/condiciones previas.\n",
    "\n",
    "Objetivo: determinar la influencia del estado de salud del paciente previo en el nivel de gravedad de la enfermedad."
   ]
  },
  {
   "cell_type": "markdown",
   "metadata": {},
   "source": [
    "3) Porcentaje de positivos fallecidos por edad; porcentaje de positivos fallecidos por encima y por debajo de la mediana de la edad.\n",
    "\n",
    "Objetivo: determinar la influencia de la edad en las probabilidades de que la enfermedad acabe con la vida del paciente. "
   ]
  },
  {
   "cell_type": "markdown",
   "metadata": {},
   "source": [
    "4) Porcentaje de fumadores entre los positivos fallecidos por encima y por debajo de la mediana de la edad.\n",
    "\n",
    "Objetivo: determinar la influencia del tabaco, asociada a la de la edad, en las probabilidades de que la enfermedad acabe con la vida del paciente."
   ]
  }
 ],
 "metadata": {
  "kernelspec": {
   "display_name": "Python 3",
   "language": "python",
   "name": "python3"
  },
  "language_info": {
   "codemirror_mode": {
    "name": "ipython",
    "version": 3
   },
   "file_extension": ".py",
   "mimetype": "text/x-python",
   "name": "python",
   "nbconvert_exporter": "python",
   "pygments_lexer": "ipython3",
   "version": "3.7.6"
  }
 },
 "nbformat": 4,
 "nbformat_minor": 4
}
